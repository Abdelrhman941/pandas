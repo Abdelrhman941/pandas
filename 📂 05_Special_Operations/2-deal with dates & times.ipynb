{
 "cells": [
  {
   "cell_type": "code",
   "execution_count": 1,
   "metadata": {},
   "outputs": [],
   "source": [
    "import numpy as np          # type: ignore\n",
    "import pandas as pd         # type: ignore"
   ]
  },
  {
   "cell_type": "markdown",
   "metadata": {},
   "source": [
    "### 📆 **Pandas Date & Time Offset Codes**  \n",
    "\n",
    "Pandas provides various **date and time offset codes** for working with time-based data. Below is a structured reference table with **updated abbreviations** and explanations.  \n",
    "\n",
    "---\n",
    "\n",
    "#### 📅 **Calendar-Based Offsets**\n",
    "| Code  | Meaning                  | Variation (End) |\n",
    "|-------|--------------------------|----------------|\n",
    "| **YS** | Year Start               | **YE** → Year End  |\n",
    "| **QS** | Quarter Start            | **QE** → Quarter End |\n",
    "| **MS** | Month Start              | **ME** → Month End |\n",
    "| **W**  | Weekly (Start of Week)   | — |\n",
    "| **D**  | Calendar Day             | — |\n",
    "\n",
    "---\n",
    "\n",
    "#### ⏳ **Time-Based Offsets**\n",
    "| Code  | Meaning                 | Variation (Alias) |\n",
    "|-------|-------------------------|-------------------|\n",
    "| **h**  | Hours                   | **bh** → Business Hours |\n",
    "| **m**  | Minutes                 | **min** |\n",
    "| **s**  | Seconds                 | — |\n",
    "| **ms** | Milliseconds            | — |\n",
    "| **us** | Microseconds            | — |\n",
    "| **ns** | Nanoseconds             | — |\n",
    "| **as** | Attoseconds (Rare)      | **YS** (Year Start) |\n",
    "\n",
    "---\n",
    "\n",
    "#### 🏢 **Business-Based Offsets**\n",
    "| Code  | Meaning                     | Variation (End) |\n",
    "|-------|-----------------------------|----------------|\n",
    "| **BAS** | Business Year Start        | **BYS** |\n",
    "| **BA**  | Business Year End          | **BYE** |\n",
    "| **BQS** | Business Quarter Start     | **BQE** → Business Quarter End |\n",
    "| **BMS** | Business Month Start       | **BME** → Business Month End |\n",
    "| **B**   | Business Day               | — |\n",
    "\n",
    "---\n",
    "\n",
    "### 🔍 **Updates & Notes:**\n",
    "✅ **`as` (Attoseconds)** is rarely used but technically exists.  \n",
    "✅ **Aliases like `bh` for business hours** have been clarified.  \n",
    "✅ **No major updates in Pandas' latest version** regarding these offsets. 🚀\n",
    "\n",
    "<div style=\"width: 100%; height: 10px; background: linear-gradient(to right, orange, red, orange, red, orange); border-radius: 5px; margin: 20px 0;\"></div>"
   ]
  },
  {
   "cell_type": "code",
   "execution_count": 2,
   "metadata": {},
   "outputs": [
    {
     "name": "stdout",
     "output_type": "stream",
     "text": [
      "2018-07-04 00:00:00\n"
     ]
    },
    {
     "data": {
      "text/plain": [
       "TimedeltaIndex([ '0 days',  '1 days',  '2 days',  '3 days',  '4 days',\n",
       "                 '5 days',  '6 days',  '7 days',  '8 days',  '9 days',\n",
       "                '10 days', '11 days', '12 days', '13 days', '14 days',\n",
       "                '15 days', '16 days', '17 days', '18 days', '19 days'],\n",
       "               dtype='timedelta64[ns]', freq=None)"
      ]
     },
     "execution_count": 2,
     "metadata": {},
     "output_type": "execute_result"
    }
   ],
   "source": [
    "x = pd.to_datetime(\"4 july 2018\")\n",
    "y = pd.to_timedelta(np.arange(20),\"D\")  # W -> week\n",
    "print(x)\n",
    "y"
   ]
  },
  {
   "cell_type": "code",
   "execution_count": 3,
   "metadata": {},
   "outputs": [
    {
     "data": {
      "text/plain": [
       "DatetimeIndex(['2018-07-04', '2018-07-05', '2018-07-06', '2018-07-07',\n",
       "               '2018-07-08', '2018-07-09', '2018-07-10', '2018-07-11',\n",
       "               '2018-07-12', '2018-07-13', '2018-07-14', '2018-07-15',\n",
       "               '2018-07-16', '2018-07-17', '2018-07-18', '2018-07-19',\n",
       "               '2018-07-20', '2018-07-21', '2018-07-22', '2018-07-23'],\n",
       "              dtype='datetime64[ns]', freq=None)"
      ]
     },
     "execution_count": 3,
     "metadata": {},
     "output_type": "execute_result"
    }
   ],
   "source": [
    "y = y+x\n",
    "y"
   ]
  },
  {
   "cell_type": "code",
   "execution_count": 4,
   "metadata": {},
   "outputs": [
    {
     "name": "stdout",
     "output_type": "stream",
     "text": [
      "2014-07-04    0\n",
      "2014-08-04    1\n",
      "2015-07-04    2\n",
      "2015-08-04    3\n",
      "dtype: int64\n",
      "=========================\n",
      "2014-08-04    1\n",
      "2015-07-04    2\n",
      "2015-08-04    3\n",
      "dtype: int64\n",
      "=========================\n",
      "3\n"
     ]
    }
   ],
   "source": [
    "data = [0, 1, 2, 3]\n",
    "indx= pd.DatetimeIndex(['2014-07-04', \n",
    "                        '2014-08-04',\n",
    "                        '2015-07-04', \n",
    "                        '2015-08-04'])\n",
    "\n",
    "data = pd.Series(data, index=indx)\n",
    "print(data)\n",
    "print(\"=========================\")\n",
    "print(data['2014-08-04 ':'2015-08-04'])\n",
    "print(\"=========================\")\n",
    "print(data['2015-08-04'])"
   ]
  },
  {
   "cell_type": "code",
   "execution_count": 5,
   "metadata": {},
   "outputs": [
    {
     "data": {
      "text/plain": [
       "'Wednesday'"
      ]
     },
     "execution_count": 5,
     "metadata": {},
     "output_type": "execute_result"
    }
   ],
   "source": [
    "x.strftime('%A')"
   ]
  },
  {
   "cell_type": "markdown",
   "metadata": {},
   "source": [
    "<div style=\"width: 100%; height: 10px; background: linear-gradient(to right, orange, red, orange, red, orange); border-radius: 5px; margin: 20px 0;\"></div>\n",
    "\n",
    "### ⏳ **Pandas Time Range Functions**  \n",
    "\n",
    "Pandas provides functions to generate time-based sequences efficiently. Below is a structured reference table explaining their use.  \n",
    "\n",
    "---\n",
    "\n",
    "| Function             | Purpose                     | Usage Example |\n",
    "|----------------------|---------------------------|--------------|\n",
    "| **`date_range`**     | Creates a range of dates between a **start and end** date. | `pd.date_range(start='2024-01-01', end='2024-12-31', freq='M')` |\n",
    "| **`timedelta_range`** | Generates a range of **time differences** (durations) with specific steps. | `pd.timedelta_range(start='0 days', periods=10, freq='2H')` |\n",
    "\n",
    "---\n",
    "\n",
    "### 📝 **Key Differences:**\n",
    "- **`date_range`** → Works with **absolute calendar dates** 📅  \n",
    "- **`timedelta_range`** → Works with **time steps (differences)** ⏳  \n",
    "\n",
    "Both functions allow flexible frequency (`freq`) settings like `D` (days), `H` (hours), `T` (minutes), `S` (seconds), etc. 🚀\n",
    "\n",
    "---\n",
    "\n",
    "### ⏳ **Frequency Options in Pandas Time Series**  \n",
    "\n",
    "Pandas allows setting **frequency (`freq`)** for date and time-based indexing. Here are some common options:  \n",
    "\n",
    "| **Frequency Code** | **Meaning**              | **Notes**                      |\n",
    "|-------------------|----------------------|-----------------------------|\n",
    "| `H`             | Hourly                | 1-hour intervals ⏰        |\n",
    "| `D`             | Daily (Default)       | 1-day intervals 📅        |\n",
    "| `W`             | Weekly                | Defaults to **Sunday** 📆 |\n",
    "| `ME`            | Month End             | Last day of each month 📆 |\n",
    "| `YE`            | Year End              | Last day of each year 🎉 |\n",
    "\n",
    "💡 **Tip:** You can modify `W` by specifying a day (e.g., `W-FRI` for **Fridays**). 🚀"
   ]
  },
  {
   "cell_type": "code",
   "execution_count": 6,
   "metadata": {},
   "outputs": [
    {
     "data": {
      "text/plain": [
       "DatetimeIndex(['2011-12-25', '2011-12-26', '2011-12-27', '2011-12-28',\n",
       "               '2011-12-29', '2011-12-30', '2011-12-31', '2012-01-01',\n",
       "               '2012-01-02', '2012-01-03', '2012-01-04', '2012-01-05',\n",
       "               '2012-01-06', '2012-01-07', '2012-01-08'],\n",
       "              dtype='datetime64[ns]', freq='D')"
      ]
     },
     "execution_count": 6,
     "metadata": {},
     "output_type": "execute_result"
    }
   ],
   "source": [
    "data = pd.date_range('2011-12-25', '2012-01-08')\n",
    "data"
   ]
  },
  {
   "cell_type": "code",
   "execution_count": 7,
   "metadata": {},
   "outputs": [
    {
     "data": {
      "text/plain": [
       "DatetimeIndex(['2011-12-25', '2011-12-26', '2011-12-27', '2011-12-28',\n",
       "               '2011-12-29', '2011-12-30', '2011-12-31', '2012-01-01'],\n",
       "              dtype='datetime64[ns]', freq='D')"
      ]
     },
     "execution_count": 7,
     "metadata": {},
     "output_type": "execute_result"
    }
   ],
   "source": [
    "data = pd.date_range('2011-12-25', periods=8)\n",
    "data"
   ]
  },
  {
   "cell_type": "code",
   "execution_count": 8,
   "metadata": {},
   "outputs": [
    {
     "data": {
      "text/plain": [
       "DatetimeIndex(['2011-12-31', '2012-01-31', '2012-02-29', '2012-03-31',\n",
       "               '2012-04-30', '2012-05-31', '2012-06-30', '2012-07-31'],\n",
       "              dtype='datetime64[ns]', freq='ME')"
      ]
     },
     "execution_count": 8,
     "metadata": {},
     "output_type": "execute_result"
    }
   ],
   "source": [
    "data = pd.date_range('2011-12-25', periods=8, freq='ME')\n",
    "data"
   ]
  },
  {
   "cell_type": "code",
   "execution_count": 9,
   "metadata": {},
   "outputs": [
    {
     "data": {
      "text/plain": [
       "TimedeltaIndex(['0 days 00:00:00', '0 days 01:00:00', '0 days 02:00:00',\n",
       "                '0 days 03:00:00', '0 days 04:00:00', '0 days 05:00:00',\n",
       "                '0 days 06:00:00', '0 days 07:00:00', '0 days 08:00:00',\n",
       "                '0 days 09:00:00'],\n",
       "               dtype='timedelta64[ns]', freq='h')"
      ]
     },
     "execution_count": 9,
     "metadata": {},
     "output_type": "execute_result"
    }
   ],
   "source": [
    "data = pd.timedelta_range(0, periods=10, freq=\"h\")   # 0 : no day and month and year\n",
    "data"
   ]
  },
  {
   "cell_type": "code",
   "execution_count": 10,
   "metadata": {},
   "outputs": [
    {
     "data": {
      "text/plain": [
       "TimedeltaIndex(['0 days 00:00:00', '0 days 02:30:40', '0 days 05:01:20',\n",
       "                '0 days 07:32:00', '0 days 10:02:40', '0 days 12:33:20',\n",
       "                '0 days 15:04:00', '0 days 17:34:40', '0 days 20:05:20'],\n",
       "               dtype='timedelta64[ns]', freq='9040s')"
      ]
     },
     "execution_count": 10,
     "metadata": {},
     "output_type": "execute_result"
    }
   ],
   "source": [
    "data = pd.timedelta_range(0, periods=9, freq=\"2h30min40s\") #freq is step :2 hours and 30 minutes and 40 seconds\n",
    "data"
   ]
  },
  {
   "cell_type": "markdown",
   "metadata": {},
   "source": [
    "<div style=\"width: 100%; height: 10px; background: linear-gradient(to right, orange, red, orange, red, orange); border-radius: 5px; margin: 20px 0;\"></div>\n",
    "\n",
    "## 📅 **Business Days in Pandas**  \n",
    "\n",
    "Pandas provides specialized frequency codes for handling **business days**, which **exclude weekends** and can be customized to account for holidays.\n",
    "\n",
    "### 🔹 **Business Day Frequency Codes**\n",
    "| **Frequency Code** | **Meaning**                   | **Notes** |\n",
    "|-------------------|---------------------------|---------|\n",
    "| `B`             | Business Days              | Skips weekends (Saturday & Sunday) |\n",
    "| `BM`            | Business Month Start       | First business day of the month |\n",
    "| `BME`           | Business Month End         | Last business day of the month |\n",
    "| `BQS`           | Business Quarter Start     | First business day of each quarter |\n",
    "| `BQE`           | Business Quarter End       | Last business day of each quarter |\n",
    "| `BYS`           | Business Year Start        | First business day of the year |\n",
    "| `BYE`           | Business Year End          | Last business day of the year |\n",
    "\n",
    "### 🔹 **Custom Business Days (Weekends & Holidays)**\n",
    "If you want to **define custom weekends or holidays**, use `CustomBusinessDay`:\n",
    "\n",
    "```python\n",
    "from pandas.tseries.offsets import CustomBusinessDay\n",
    "import pandas as pd\n",
    "\n",
    "# Define custom weekends (e.g., Friday & Saturday)\n",
    "custom_bd = CustomBusinessDay(weekmask='Sun Mon Tue Wed Thu')\n",
    "\n",
    "# Generate business days with custom settings\n",
    "data = pd.date_range('2024-01-01', periods=6, freq=custom_bd)\n",
    "print(data)\n",
    "```\n",
    "\n",
    "### 📌 **Example: Default Business Days (`B`)**\n",
    "```python\n",
    "from pandas.tseries.offsets import BDay\n",
    "import pandas as pd\n",
    "\n",
    "data = pd.date_range('2024-01-01', periods=6, freq=BDay())\n",
    "print(data)\n",
    "```\n",
    "### 📅 **Output:**\n",
    "```\n",
    "DatetimeIndex(['2024-01-01', '2024-01-02', '2024-01-03', '2024-01-04',\n",
    "               '2024-01-05', '2024-01-08'],\n",
    "              dtype='datetime64[ns]', freq='B')\n",
    "```\n",
    "\n",
    "> 📝 **Note:**  \n",
    "> - **Saturday & Sunday are skipped.**  \n",
    "> - If a business day falls on a holiday, you need to explicitly define holidays using `CustomBusinessDay`.  \n",
    "\n",
    "🚀 **Use these frequency codes to simplify business day calculations in your Pandas workflows!** ✅ "
   ]
  },
  {
   "cell_type": "code",
   "execution_count": 11,
   "metadata": {},
   "outputs": [
    {
     "data": {
      "text/plain": [
       "DatetimeIndex(['2018-07-02', '2018-07-03', '2018-07-04', '2018-07-05',\n",
       "               '2018-07-06', '2018-07-09'],\n",
       "              dtype='datetime64[ns]', freq='B')"
      ]
     },
     "execution_count": 11,
     "metadata": {},
     "output_type": "execute_result"
    }
   ],
   "source": [
    "from pandas.tseries.offsets import BDay\n",
    "\n",
    "data = pd.date_range('2018-07-01', periods=6, freq=BDay())\n",
    "data"
   ]
  }
 ],
 "metadata": {
  "kernelspec": {
   "display_name": "base",
   "language": "python",
   "name": "python3"
  },
  "language_info": {
   "codemirror_mode": {
    "name": "ipython",
    "version": 3
   },
   "file_extension": ".py",
   "mimetype": "text/x-python",
   "name": "python",
   "nbconvert_exporter": "python",
   "pygments_lexer": "ipython3",
   "version": "3.12.3"
  }
 },
 "nbformat": 4,
 "nbformat_minor": 2
}
