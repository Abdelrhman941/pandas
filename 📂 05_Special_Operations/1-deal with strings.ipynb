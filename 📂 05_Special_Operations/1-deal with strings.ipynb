{
 "cells": [
  {
   "cell_type": "code",
   "execution_count": 1,
   "metadata": {},
   "outputs": [],
   "source": [
    "import pandas as pd         # type: ignore"
   ]
  },
  {
   "cell_type": "markdown",
   "metadata": {},
   "source": [
    "# 📝 Methods Similar to Python String Methods  \n",
    "\n",
    "| **General**  | **Case Handling**  | **Searching**  | **Validation**  | **Splitting & Padding**  |\n",
    "|-------------|------------------|---------------|----------------|-------------------------|\n",
    "| `len()`     | `lower()`        | `find()`      | `isalnum()`    | `split()`              |\n",
    "| `ljust()`   | `upper()`        | `rfind()`     | `isalpha()`    | `rsplit()`             |\n",
    "| `rjust()`   | `capitalize()`   | `index()`     | `isdigit()`    | `partition()`          |\n",
    "| `center()`  | `swapcase()`     | `rindex()`    | `isspace()`    | `rpartition()`         |\n",
    "| `zfill()`   | `title()`        | `translate()` | `istitle()`    | `lstrip()`             |\n",
    "| `strip()`   | `isupper()`      | `startswith()`| `islower()`    | `rstrip()`             |\n",
    "| `rstrip()`  | `islower()`      | `endswith()`  | `isnumeric()`  |                         |\n",
    "\n",
    "These are some of the most commonly used **string manipulation methods** in Python! 🐍✨  "
   ]
  },
  {
   "cell_type": "code",
   "execution_count": 2,
   "metadata": {},
   "outputs": [
    {
     "name": "stdout",
     "output_type": "stream",
     "text": [
      "0    peter\n",
      "1     Paul\n",
      "2     MARY\n",
      "3       15\n",
      "4         \n",
      "dtype: object\n",
      "-----------------\n",
      "0    5\n",
      "1    4\n",
      "2    4\n",
      "3    2\n",
      "4    2\n",
      "dtype: int64\n"
     ]
    }
   ],
   "source": [
    "data = ['peter', 'Paul', 'MARY', '15' , '  ' ]\n",
    "data = pd.Series(data)\n",
    "print(data)\n",
    "print(\"-----------------\")\n",
    "print(data.str.len())"
   ]
  },
  {
   "cell_type": "code",
   "execution_count": 3,
   "metadata": {},
   "outputs": [
    {
     "name": "stdout",
     "output_type": "stream",
     "text": [
      "0    peter\n",
      "1     Paul\n",
      "2     MARY\n",
      "3       15\n",
      "4         \n",
      "dtype: object\n",
      "-----------------\n",
      "0     True\n",
      "1    False\n",
      "2    False\n",
      "3    False\n",
      "4    False\n",
      "dtype: bool\n",
      "-----------------\n",
      "0    False\n",
      "1    False\n",
      "2     True\n",
      "3    False\n",
      "4    False\n",
      "dtype: bool\n"
     ]
    }
   ],
   "source": [
    "print(data)\n",
    "print(\"-----------------\")\n",
    "print(data.str.startswith('p'))                 # is it start with \"p\"\n",
    "print(\"-----------------\")\n",
    "print(data.str.endswith('Y'))                   # is it end   with \"r\""
   ]
  },
  {
   "cell_type": "code",
   "execution_count": 4,
   "metadata": {},
   "outputs": [
    {
     "name": "stdout",
     "output_type": "stream",
     "text": [
      "0    peter\n",
      "1     Paul\n",
      "2     MARY\n",
      "3       15\n",
      "4         \n",
      "dtype: object\n",
      "-----------------\n",
      "0    2\n",
      "1   -1\n",
      "2   -1\n",
      "3   -1\n",
      "4   -1\n",
      "dtype: int64\n",
      "-----------------\n",
      "0   -1\n",
      "1   -1\n",
      "2    1\n",
      "3   -1\n",
      "4   -1\n",
      "dtype: int64\n"
     ]
    }
   ],
   "source": [
    "print(data)\n",
    "print(\"-----------------\")\n",
    "print(data.str.find('t'))               # find this letter\n",
    "print(\"-----------------\")\n",
    "print(data.str.rfind('A'))              # find it from right\n",
    "\n",
    "# 👉 {-1} -> not exist"
   ]
  },
  {
   "cell_type": "code",
   "execution_count": 5,
   "metadata": {},
   "outputs": [
    {
     "name": "stdout",
     "output_type": "stream",
     "text": [
      "0    peter\n",
      "1     Paul\n",
      "2     MARY\n",
      "3       15\n",
      "4         \n",
      "dtype: object\n",
      "-----------------\n",
      "0                   peter\n",
      "1                    Paul\n",
      "2                    MARY\n",
      "3                      15\n",
      "4                        \n",
      "dtype: object\n",
      "-----------------\n",
      "0    peter*******\n",
      "1    Paul********\n",
      "2    MARY********\n",
      "3    15**********\n",
      "4      **********\n",
      "dtype: object\n"
     ]
    }
   ],
   "source": [
    "print(data)\n",
    "print(\"-----------------\")\n",
    "print(data.str.rjust(20))               # adjust from right\n",
    "print(\"-----------------\")\n",
    "print(data.str.ljust(12,\"*\"))           # adjust from left"
   ]
  },
  {
   "cell_type": "code",
   "execution_count": 6,
   "metadata": {},
   "outputs": [
    {
     "name": "stdout",
     "output_type": "stream",
     "text": [
      "0    peter\n",
      "1     Paul\n",
      "2     MARY\n",
      "3       15\n",
      "4         \n",
      "dtype: object\n",
      "-----------------\n",
      "0    --peter---\n",
      "1    ---Paul---\n",
      "2    ---MARY---\n",
      "3    ----15----\n",
      "4    ----  ----\n",
      "dtype: object\n",
      "-----------------\n",
      "0    peter\n",
      "1    0Paul\n",
      "2    0MARY\n",
      "3    00015\n",
      "4    000  \n",
      "dtype: object\n"
     ]
    }
   ],
   "source": [
    "print(data)\n",
    "print(\"-----------------\")\n",
    "print(data.str.center(10,\"-\"))              # make it center \n",
    "print(\"-----------------\")\n",
    "print(data.str.zfill(5))                    # fill zeros"
   ]
  },
  {
   "cell_type": "code",
   "execution_count": 7,
   "metadata": {},
   "outputs": [
    {
     "name": "stdout",
     "output_type": "stream",
     "text": [
      "0    peter\n",
      "1     Paul\n",
      "2     MARY\n",
      "3       15\n",
      "4         \n",
      "dtype: object\n",
      "-----------------\n",
      "0    False\n",
      "1    False\n",
      "2     True\n",
      "3    False\n",
      "4    False\n",
      "dtype: bool\n",
      "-----------------\n",
      "0     True\n",
      "1    False\n",
      "2    False\n",
      "3    False\n",
      "4    False\n",
      "dtype: bool\n",
      "-----------------\n",
      "0    False\n",
      "1     True\n",
      "2    False\n",
      "3    False\n",
      "4    False\n",
      "dtype: bool\n"
     ]
    }
   ],
   "source": [
    "print(data)\n",
    "print(\"-----------------\")\n",
    "print(data.str.isupper())   # is it all capital ?\n",
    "print(\"-----------------\")\n",
    "print(data.str.islower())   # is it al lower ?\n",
    "print(\"-----------------\")\n",
    "print(data.str.istitle())   # is like like \"This\""
   ]
  },
  {
   "cell_type": "code",
   "execution_count": 8,
   "metadata": {},
   "outputs": [
    {
     "name": "stdout",
     "output_type": "stream",
     "text": [
      "0    False\n",
      "1    False\n",
      "2    False\n",
      "3     True\n",
      "4    False\n",
      "dtype: bool\n",
      "-----------------\n",
      "0    False\n",
      "1    False\n",
      "2    False\n",
      "3    False\n",
      "4     True\n",
      "dtype: bool\n",
      "-----------------\n",
      "0     True\n",
      "1     True\n",
      "2     True\n",
      "3    False\n",
      "4    False\n",
      "dtype: bool\n",
      "-----------------\n",
      "0     True\n",
      "1     True\n",
      "2     True\n",
      "3     True\n",
      "4    False\n",
      "dtype: bool\n"
     ]
    }
   ],
   "source": [
    "print(data.str.isdigit())   # is it numbers ?\n",
    "print(\"-----------------\")\n",
    "print(data.str.isspace())   # is it all spaces ?\n",
    "print(\"-----------------\")\n",
    "print(data.str.isalpha())   # is it all letters ?\n",
    "print(\"-----------------\")\n",
    "print(data.str.isalnum())   # is it not got any spaces ?"
   ]
  },
  {
   "cell_type": "code",
   "execution_count": 9,
   "metadata": {},
   "outputs": [
    {
     "name": "stdout",
     "output_type": "stream",
     "text": [
      "0    peter\n",
      "1     Paul\n",
      "2     MARY\n",
      "3       15\n",
      "4         \n",
      "dtype: object\n",
      "-----------------\n",
      "0    False\n",
      "1    False\n",
      "2    False\n",
      "3     True\n",
      "4    False\n",
      "dtype: bool\n",
      "-----------------\n",
      "0    False\n",
      "1    False\n",
      "2    False\n",
      "3     True\n",
      "4    False\n",
      "dtype: bool\n"
     ]
    }
   ],
   "source": [
    "print(data)\n",
    "print(\"-----------------\")\n",
    "print(data.str.isnumeric())      # is it number ?\n",
    "print(\"-----------------\")\n",
    "print(data.str.isdecimal())      # is it decimals \"float exist\"?"
   ]
  },
  {
   "cell_type": "code",
   "execution_count": 10,
   "metadata": {},
   "outputs": [
    {
     "name": "stdout",
     "output_type": "stream",
     "text": [
      "0    PETER\n",
      "1     PAUL\n",
      "2     MARY\n",
      "3       15\n",
      "4         \n",
      "dtype: object\n",
      "-----------------\n",
      "0    peter\n",
      "1     paul\n",
      "2     mary\n",
      "3       15\n",
      "4         \n",
      "dtype: object\n",
      "-----------------\n",
      "0    PETER\n",
      "1     pAUL\n",
      "2     mary\n",
      "3       15\n",
      "4         \n",
      "dtype: object\n",
      "-----------------\n",
      "0    Peter\n",
      "1     Paul\n",
      "2     Mary\n",
      "3       15\n",
      "4         \n",
      "dtype: object\n"
     ]
    }
   ],
   "source": [
    "print(data.str.upper())          # make it capital\n",
    "print(\"-----------------\")\n",
    "print(data.str.lower())          # make it lower\n",
    "print(\"-----------------\")\n",
    "print(data.str.swapcase())       # switch capital & small\n",
    "print(\"-----------------\")\n",
    "print(data.str.capitalize())     # make it like 'This'"
   ]
  },
  {
   "cell_type": "markdown",
   "metadata": {},
   "source": [
    "<div style=\"width: 100%; height: 10px; background: linear-gradient(to right, orange, red, orange, red, orange); border-radius: 5px; margin: 20px 0;\"></div>\n",
    "\n",
    "# 🔍 Methods Using Regular Expressions in Pandas  \n",
    "\n",
    "| **Method**   | **Description** |\n",
    "|-------------|----------------|\n",
    "| `match()`   | Calls `re.match()` on each element, returning a Boolean. |\n",
    "| `extract()` | Calls `re.match()` on each element, returning matched groups as strings. |\n",
    "| `findall()` | Calls `re.findall()` on each element. |\n",
    "| `replace()` | Replaces occurrences of a pattern with another string. |\n",
    "| `contains()`| Calls `re.search()` on each element, returning a Boolean. |\n",
    "| `count()`   | Counts occurrences of a pattern. |\n",
    "| `split()`   | Equivalent to `str.split()`, but accepts regex patterns. |\n",
    "| `rsplit()`  | Equivalent to `str.rsplit()`, but accepts regex patterns. |\n",
    "\n",
    "📌 **Note:** These Pandas string methods leverage Python's **`re`** module to handle **regular expressions** for advanced text processing! 🚀✨  \n"
   ]
  },
  {
   "cell_type": "code",
   "execution_count": 11,
   "metadata": {},
   "outputs": [
    {
     "data": {
      "text/plain": [
       "0    peter\n",
       "1     Paul\n",
       "2     MARY\n",
       "3       15\n",
       "4         \n",
       "dtype: object"
      ]
     },
     "execution_count": 11,
     "metadata": {},
     "output_type": "execute_result"
    }
   ],
   "source": [
    "data"
   ]
  },
  {
   "cell_type": "code",
   "execution_count": 12,
   "metadata": {},
   "outputs": [
    {
     "data": {
      "text/html": [
       "<div>\n",
       "<style scoped>\n",
       "    .dataframe tbody tr th:only-of-type {\n",
       "        vertical-align: middle;\n",
       "    }\n",
       "\n",
       "    .dataframe tbody tr th {\n",
       "        vertical-align: top;\n",
       "    }\n",
       "\n",
       "    .dataframe thead th {\n",
       "        text-align: right;\n",
       "    }\n",
       "</style>\n",
       "<table border=\"1\" class=\"dataframe\">\n",
       "  <thead>\n",
       "    <tr style=\"text-align: right;\">\n",
       "      <th></th>\n",
       "      <th>0</th>\n",
       "    </tr>\n",
       "  </thead>\n",
       "  <tbody>\n",
       "    <tr>\n",
       "      <th>0</th>\n",
       "      <td>e</td>\n",
       "    </tr>\n",
       "    <tr>\n",
       "      <th>1</th>\n",
       "      <td>a</td>\n",
       "    </tr>\n",
       "    <tr>\n",
       "      <th>2</th>\n",
       "      <td>A</td>\n",
       "    </tr>\n",
       "    <tr>\n",
       "      <th>3</th>\n",
       "      <td>NaN</td>\n",
       "    </tr>\n",
       "    <tr>\n",
       "      <th>4</th>\n",
       "      <td>NaN</td>\n",
       "    </tr>\n",
       "  </tbody>\n",
       "</table>\n",
       "</div>"
      ],
      "text/plain": [
       "     0\n",
       "0    e\n",
       "1    a\n",
       "2    A\n",
       "3  NaN\n",
       "4  NaN"
      ]
     },
     "execution_count": 12,
     "metadata": {},
     "output_type": "execute_result"
    }
   ],
   "source": [
    "data.str.extract('([A-Ga-g]+)')     # extract letters from A to G"
   ]
  },
  {
   "cell_type": "markdown",
   "metadata": {},
   "source": [
    "- **\"peter\"** → Contains `\"a\"` ✅  \n",
    "- **\"Paul\"** → Contains `\"a\"` ✅  \n",
    "- **\"MARY\"** → Contains `\"A\"` ✅  \n",
    "- **\"15\"** → No matching letters ❌ → `NaN`  \n",
    "- **Empty string** → No match ❌ → `NaN`  "
   ]
  },
  {
   "cell_type": "markdown",
   "metadata": {},
   "source": [
    "<div style=\"width: 100%; height: 10px; background: linear-gradient(to right, orange, red, orange, red, orange); border-radius: 5px; margin: 20px 0;\"></div>\n",
    "\n",
    "### 🔍 Finding Names That Start and End with a Consonant\n",
    "\n",
    "We use **regular expressions** with `findall()` to filter names that:  \n",
    "✅ **Start with a consonant** (not `'p'`)  \n",
    "✅ **End with a consonant** (not `'e'` or `'r'`)  \n",
    "\n",
    "```python\n",
    "data.str.findall(r'^[^p].*[^er]$')\n",
    "```\n",
    "\n",
    "#### **📌 Explanation of the Regex Pattern:**\n",
    "| Pattern  | Meaning |\n",
    "|----------|---------|\n",
    "| `^`      | Start of the string |\n",
    "| `[^p]`   | First character **is not** `'p'` |\n",
    "| `.*`     | Any number of characters in between |\n",
    "| `[^er]`  | Last character **is not** `'e'` or `'r'` |\n",
    "| `$`      | End of the string |"
   ]
  },
  {
   "cell_type": "code",
   "execution_count": 13,
   "metadata": {},
   "outputs": [
    {
     "data": {
      "text/plain": [
       "0        []\n",
       "1    [Paul]\n",
       "2    [MARY]\n",
       "3      [15]\n",
       "4      [  ]\n",
       "dtype: object"
      ]
     },
     "execution_count": 13,
     "metadata": {},
     "output_type": "execute_result"
    }
   ],
   "source": [
    "data.str.findall(r'^[^p].*[^er]$')"
   ]
  },
  {
   "cell_type": "markdown",
   "metadata": {},
   "source": [
    "### **💡 Example Input & Output:**\n",
    "#### **Original Data (`data`)**\n",
    "```\n",
    "0    Peter\n",
    "1    Paul\n",
    "2    Mary\n",
    "3    Alex\n",
    "4    John\n",
    "5    Carol\n",
    "dtype: object\n",
    "```\n",
    "\n",
    "#### **Filtered Matches (`data.str.findall(r'^[^p].*[^er]$')`)**\n",
    "| Name  | Matches the Pattern? | Reason |\n",
    "|-------|----------------------|--------|\n",
    "| **Peter** ❌ | No | Starts with `'P'`, ends with `'r'` |\n",
    "| **Paul** ❌ | No | Starts with `'P'` |\n",
    "| **Mary** ✅ | Yes | Starts with `'M'`, ends with `'y'` |\n",
    "| **Alex** ✅ | Yes | Starts with `'A'`, ends with `'x'` |\n",
    "| **John** ✅ | Yes | Starts with `'J'`, ends with `'n'` |\n",
    "| **Carol** ✅ | Yes | Starts with `'C'`, ends with `'l'` |"
   ]
  }
 ],
 "metadata": {
  "kernelspec": {
   "display_name": "base",
   "language": "python",
   "name": "python3"
  },
  "language_info": {
   "codemirror_mode": {
    "name": "ipython",
    "version": 3
   },
   "file_extension": ".py",
   "mimetype": "text/x-python",
   "name": "python",
   "nbconvert_exporter": "python",
   "pygments_lexer": "ipython3",
   "version": "3.12.3"
  }
 },
 "nbformat": 4,
 "nbformat_minor": 2
}
