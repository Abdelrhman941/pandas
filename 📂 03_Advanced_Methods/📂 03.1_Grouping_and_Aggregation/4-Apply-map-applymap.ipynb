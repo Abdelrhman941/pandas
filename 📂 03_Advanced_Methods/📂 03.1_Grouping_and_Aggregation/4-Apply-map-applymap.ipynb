{
 "cells": [
  {
   "cell_type": "code",
   "execution_count": 1,
   "metadata": {},
   "outputs": [],
   "source": [
    "import pandas as pd                 # type: ignore"
   ]
  },
  {
   "cell_type": "code",
   "execution_count": 2,
   "metadata": {},
   "outputs": [
    {
     "data": {
      "text/html": [
       "<div>\n",
       "<style scoped>\n",
       "    .dataframe tbody tr th:only-of-type {\n",
       "        vertical-align: middle;\n",
       "    }\n",
       "\n",
       "    .dataframe tbody tr th {\n",
       "        vertical-align: top;\n",
       "    }\n",
       "\n",
       "    .dataframe thead th {\n",
       "        text-align: right;\n",
       "    }\n",
       "</style>\n",
       "<table border=\"1\" class=\"dataframe\">\n",
       "  <thead>\n",
       "    <tr style=\"text-align: right;\">\n",
       "      <th></th>\n",
       "      <th>Job ID</th>\n",
       "      <th>Civil Service Title</th>\n",
       "      <th>Agency</th>\n",
       "      <th>Posting Type</th>\n",
       "      <th>Job Category</th>\n",
       "      <th>Salary Range From</th>\n",
       "      <th>Salary Range To</th>\n",
       "    </tr>\n",
       "  </thead>\n",
       "  <tbody>\n",
       "    <tr>\n",
       "      <th>0</th>\n",
       "      <td>424339</td>\n",
       "      <td>PUBLIC HEALTH NURSE</td>\n",
       "      <td>DEPT OF HEALTH/MENTAL HYGIENE</td>\n",
       "      <td>External</td>\n",
       "      <td>Health</td>\n",
       "      <td>84252.0</td>\n",
       "      <td>84252.0</td>\n",
       "    </tr>\n",
       "    <tr>\n",
       "      <th>1</th>\n",
       "      <td>379094</td>\n",
       "      <td>CERT IT DEVELOPER (APP)</td>\n",
       "      <td>NYC EMPLOYEES RETIREMENT SYS</td>\n",
       "      <td>External</td>\n",
       "      <td>Technology, Data &amp; Innovation</td>\n",
       "      <td>82884.0</td>\n",
       "      <td>116391.0</td>\n",
       "    </tr>\n",
       "    <tr>\n",
       "      <th>2</th>\n",
       "      <td>520417</td>\n",
       "      <td>EXECUTIVE AGENCY COUNSEL</td>\n",
       "      <td>NYC HOUSING AUTHORITY</td>\n",
       "      <td>External</td>\n",
       "      <td>Legal Affairs</td>\n",
       "      <td>105000.0</td>\n",
       "      <td>125000.0</td>\n",
       "    </tr>\n",
       "    <tr>\n",
       "      <th>3</th>\n",
       "      <td>233549</td>\n",
       "      <td>CERTIFIED IT ADMINISTRATOR (LA</td>\n",
       "      <td>NYC EMPLOYEES RETIREMENT SYS</td>\n",
       "      <td>External</td>\n",
       "      <td>Information Technology &amp; Telecommunications</td>\n",
       "      <td>87203.0</td>\n",
       "      <td>131623.0</td>\n",
       "    </tr>\n",
       "    <tr>\n",
       "      <th>4</th>\n",
       "      <td>510256</td>\n",
       "      <td>ASSOCIATE HUMAN RIGHTS SPECIAL</td>\n",
       "      <td>HUMAN RIGHTS COMMISSION</td>\n",
       "      <td>External</td>\n",
       "      <td>Constituent Services &amp; Community Programs</td>\n",
       "      <td>58449.0</td>\n",
       "      <td>67216.0</td>\n",
       "    </tr>\n",
       "  </tbody>\n",
       "</table>\n",
       "</div>"
      ],
      "text/plain": [
       "   Job ID             Civil Service Title                         Agency  \\\n",
       "0  424339             PUBLIC HEALTH NURSE  DEPT OF HEALTH/MENTAL HYGIENE   \n",
       "1  379094         CERT IT DEVELOPER (APP)   NYC EMPLOYEES RETIREMENT SYS   \n",
       "2  520417        EXECUTIVE AGENCY COUNSEL          NYC HOUSING AUTHORITY   \n",
       "3  233549  CERTIFIED IT ADMINISTRATOR (LA   NYC EMPLOYEES RETIREMENT SYS   \n",
       "4  510256  ASSOCIATE HUMAN RIGHTS SPECIAL        HUMAN RIGHTS COMMISSION   \n",
       "\n",
       "  Posting Type                                 Job Category  \\\n",
       "0     External                                       Health   \n",
       "1     External                Technology, Data & Innovation   \n",
       "2     External                                Legal Affairs   \n",
       "3     External  Information Technology & Telecommunications   \n",
       "4     External    Constituent Services & Community Programs   \n",
       "\n",
       "   Salary Range From  Salary Range To  \n",
       "0            84252.0          84252.0  \n",
       "1            82884.0         116391.0  \n",
       "2           105000.0         125000.0  \n",
       "3            87203.0         131623.0  \n",
       "4            58449.0          67216.0  "
      ]
     },
     "execution_count": 2,
     "metadata": {},
     "output_type": "execute_result"
    }
   ],
   "source": [
    "data = pd.read_csv(\"../../datasets/NYC Jobs.csv\")\n",
    "data = data[['Job ID','Civil Service Title','Agency','Posting Type','Job Category','Salary Range From','Salary Range To']]\n",
    "data.head()"
   ]
  },
  {
   "cell_type": "markdown",
   "metadata": {},
   "source": [
    "<div style=\"width: 100%; height: 10px; background: linear-gradient(to right, orange, red, orange, red, orange); border-radius: 5px; margin: 20px 0;\"></div>\n",
    "\n",
    "# **Understanding `apply()`, `map()`, and `applymap()` in Pandas**\n",
    "\n",
    "## 📌 **1. `apply()`**\n",
    "### ✅ Use case:\n",
    "- Works on **rows or columns** of a `DataFrame`.\n",
    "- Ideal for **aggregations and transformations**.\n",
    "- Can be used for both `Series` and `DataFrame`.\n",
    "\n",
    "### 🔹 Example:\n",
    "```python\n",
    "import pandas as pd\n",
    "\n",
    "df = pd.DataFrame({'A': [1, 2, 3], 'B': [4, 5, 6]})\n",
    "\n",
    "# Applying a function to each column\n",
    "result = df.apply(lambda x: x.sum(), axis=0)  # Column-wise sum\n",
    "print(result)\n",
    "```\n",
    "\n",
    "---\n",
    "\n",
    "## 📌 **2. `map()`**\n",
    "### ✅ Use case:\n",
    "- Works **only on Series**.\n",
    "- Used to transform values **element-wise**.\n",
    "- Useful for mapping values based on a function, dictionary, or another Series.\n",
    "\n",
    "### 🔹 Example:\n",
    "```python\n",
    "s = pd.Series([1, 2, 3, 4])\n",
    "\n",
    "# Squaring each element\n",
    "result = s.map(lambda x: x ** 2)\n",
    "print(result)\n",
    "```\n",
    "\n",
    "---\n",
    "\n",
    "## 📌 **3. `applymap()` (Deprecated ❌ in Pandas 2.2.0)**\n",
    "### 🚨 **Warning:**\n",
    "> **`applymap()` is deprecated in Pandas 2.2.0 and later. Use `map()` instead.**\n",
    "\n",
    "### ❌ Old approach (Deprecated):\n",
    "```python\n",
    "df = pd.DataFrame({\n",
    "    'A': [1, 2, 3],\n",
    "    'B': [4, 5, 6]\n",
    "})\n",
    "\n",
    "# Applying a function to each element (Deprecated)\n",
    "result = df.applymap(lambda x: x ** 2)  # ❌ Warning in Pandas 2.2.0\n",
    "print(result)\n",
    "```\n",
    "⚠ **Warning Message:**\n",
    "```plaintext\n",
    "FutureWarning: DataFrame.applymap has been deprecated. Use DataFrame.map instead.\n",
    "```\n",
    "\n",
    "### ✅ New approach (Use `map()` instead):\n",
    "```python\n",
    "result = df.map(lambda x: x ** 2)  # ✅ Correct in Pandas 2.2.0+\n",
    "print(result)\n",
    "```\n",
    "\n",
    "---\n",
    "\n",
    "## 🔥 **Key Differences Summary**\n",
    "| Function  | Works on  | Level  | Use case  |\n",
    "|-----------|----------|--------|-----------|\n",
    "| `apply()` | Series & DataFrame | Column-wise or Row-wise | Transformations & Aggregations |\n",
    "| `map()` | Series | Element-wise | Mapping & value transformation |\n",
    "| ~~`applymap()`~~ ❌ | ~~DataFrame~~ | ~~Element-wise~~ | ~~Deprecated in Pandas 2.2.0~~ |\n",
    "\n",
    "🚀 **Conclusion:** Always use `apply()` for row/column operations and `map()` for element-wise transformations. `applymap()` is now deprecated, so replace it with `map()` when working with `DataFrame` elements.\n",
    "\n",
    "<div style=\"width: 100%; height: 10px; background: linear-gradient(to right, orange, red, orange, red, orange); border-radius: 5px; margin: 20px 0;\"></div>"
   ]
  },
  {
   "cell_type": "markdown",
   "metadata": {},
   "source": [
    "<h1 align=\"center\">👉 <strong>apply</strong> 👈</h1>\n",
    "\n",
    "### ✅ Use case:\n",
    "- Works on **rows or columns** of a `DataFrame`.\n",
    "- Ideal for **aggregations and transformations**.\n",
    "- Can be used for both `Series` and `DataFrame`."
   ]
  },
  {
   "cell_type": "code",
   "execution_count": 3,
   "metadata": {},
   "outputs": [
    {
     "name": "stdout",
     "output_type": "stream",
     "text": [
      "0               Public health nurse\n",
      "1           Cert it developer (app)\n",
      "2          Executive agency counsel\n",
      "3    Certified it administrator (la\n",
      "4    Associate human rights special\n",
      "5             Summer college intern\n",
      "6           City research scientist\n",
      "7             Recreation supervisor\n",
      "8     Associate housing development\n",
      "9    Research projects coor(ma)-mgr\n",
      "Name: Civil Service Title, dtype: object\n"
     ]
    }
   ],
   "source": [
    "data['Civil Service Title'] = data['Civil Service Title'].apply(lambda x: str(x).capitalize())\n",
    "print(data['Civil Service Title'][:10]) "
   ]
  },
  {
   "cell_type": "code",
   "execution_count": 4,
   "metadata": {},
   "outputs": [
    {
     "data": {
      "text/plain": [
       "0     84252.0\n",
       "1     82884.0\n",
       "2    105000.0\n",
       "3     87203.0\n",
       "4     58449.0\n",
       "5        15.0\n",
       "6     94283.0\n",
       "7     69000.0\n",
       "8     95000.0\n",
       "9     70000.0\n",
       "Name: Salary Range From, dtype: float64"
      ]
     },
     "execution_count": 4,
     "metadata": {},
     "output_type": "execute_result"
    }
   ],
   "source": [
    "data[\"Salary Range From\"][:10]"
   ]
  },
  {
   "cell_type": "code",
   "execution_count": 5,
   "metadata": {},
   "outputs": [
    {
     "data": {
      "text/plain": [
       "0    42126.0\n",
       "1    41442.0\n",
       "2    52500.0\n",
       "3    43601.5\n",
       "4    29224.5\n",
       "5        7.5\n",
       "6    47141.5\n",
       "7    34500.0\n",
       "8    47500.0\n",
       "9    35000.0\n",
       "Name: Salary Range From, dtype: float64"
      ]
     },
     "execution_count": 5,
     "metadata": {},
     "output_type": "execute_result"
    }
   ],
   "source": [
    "data[\"Salary Range From\"].apply(lambda x:x/2)[:10]"
   ]
  },
  {
   "cell_type": "code",
   "execution_count": 6,
   "metadata": {},
   "outputs": [
    {
     "data": {
      "text/plain": [
       "0    1\n",
       "1    2\n",
       "2    3\n",
       "3    4\n",
       "dtype: int64"
      ]
     },
     "execution_count": 6,
     "metadata": {},
     "output_type": "execute_result"
    }
   ],
   "source": [
    "s = pd.Series([1, 2, 3, 4])\n",
    "s"
   ]
  },
  {
   "cell_type": "code",
   "execution_count": 7,
   "metadata": {},
   "outputs": [
    {
     "name": "stdout",
     "output_type": "stream",
     "text": [
      "0     1\n",
      "1     4\n",
      "2     9\n",
      "3    16\n",
      "dtype: int64\n"
     ]
    }
   ],
   "source": [
    "# Applying a function to the entire Series\n",
    "result = s.apply(lambda x: x ** 2)\n",
    "\n",
    "print(result)"
   ]
  },
  {
   "cell_type": "code",
   "execution_count": 8,
   "metadata": {},
   "outputs": [
    {
     "data": {
      "text/html": [
       "<div>\n",
       "<style scoped>\n",
       "    .dataframe tbody tr th:only-of-type {\n",
       "        vertical-align: middle;\n",
       "    }\n",
       "\n",
       "    .dataframe tbody tr th {\n",
       "        vertical-align: top;\n",
       "    }\n",
       "\n",
       "    .dataframe thead th {\n",
       "        text-align: right;\n",
       "    }\n",
       "</style>\n",
       "<table border=\"1\" class=\"dataframe\">\n",
       "  <thead>\n",
       "    <tr style=\"text-align: right;\">\n",
       "      <th></th>\n",
       "      <th>A</th>\n",
       "      <th>B</th>\n",
       "    </tr>\n",
       "  </thead>\n",
       "  <tbody>\n",
       "    <tr>\n",
       "      <th>0</th>\n",
       "      <td>1</td>\n",
       "      <td>4</td>\n",
       "    </tr>\n",
       "    <tr>\n",
       "      <th>1</th>\n",
       "      <td>2</td>\n",
       "      <td>5</td>\n",
       "    </tr>\n",
       "    <tr>\n",
       "      <th>2</th>\n",
       "      <td>3</td>\n",
       "      <td>7</td>\n",
       "    </tr>\n",
       "  </tbody>\n",
       "</table>\n",
       "</div>"
      ],
      "text/plain": [
       "   A  B\n",
       "0  1  4\n",
       "1  2  5\n",
       "2  3  7"
      ]
     },
     "execution_count": 8,
     "metadata": {},
     "output_type": "execute_result"
    }
   ],
   "source": [
    "df = pd.DataFrame({\n",
    "    'A': [1, 2, 3],\n",
    "    'B': [4, 5, 7]  })\n",
    "df"
   ]
  },
  {
   "cell_type": "code",
   "execution_count": 9,
   "metadata": {},
   "outputs": [
    {
     "data": {
      "text/plain": [
       "A    2\n",
       "B    3\n",
       "dtype: int64"
      ]
     },
     "execution_count": 9,
     "metadata": {},
     "output_type": "execute_result"
    }
   ],
   "source": [
    "# Applying a function along the columns\n",
    "result = df.apply(lambda x: x.max() - x.min())\n",
    "result"
   ]
  },
  {
   "cell_type": "code",
   "execution_count": 10,
   "metadata": {},
   "outputs": [
    {
     "data": {
      "text/plain": [
       "0      DEPT OF HEALTH/MENTAL HYGIENE\n",
       "1    x-o-xo EMPLOYEES RETIREMENT SYS\n",
       "2           x-o-xo HOUSING AUTHORITY\n",
       "3    x-o-xo EMPLOYEES RETIREMENT SYS\n",
       "4            HUMAN RIGHTS COMMISSION\n",
       "5            DEPARTMENT OF BUILDINGS\n",
       "6           DEPARTMENT OF CORRECTION\n",
       "7         DEPT OF PARKS & RECREATION\n",
       "8     HOUSING PRESERVATION & DVLPMNT\n",
       "9     MAYORS OFFICE OF CONTRACT SVCS\n",
       "Name: Agency, dtype: object"
      ]
     },
     "execution_count": 10,
     "metadata": {},
     "output_type": "execute_result"
    }
   ],
   "source": [
    "def change_word(title):\n",
    "    title = title.replace('NYC', 'x-o-xo')\n",
    "    return title\n",
    "\n",
    "data['Agency'].apply(change_word)[:10]      # map ✅"
   ]
  },
  {
   "cell_type": "markdown",
   "metadata": {},
   "source": [
    "<h1 align=\"center\">👉 <strong>map</strong> 👈</h1>\n",
    "\n",
    "### ✅ Use case:\n",
    "- Works **only on Series**.\n",
    "- Used to transform values **element-wise**.\n",
    "- Useful for mapping values based on a function, dictionary, or another Series.\n"
   ]
  },
  {
   "cell_type": "code",
   "execution_count": 11,
   "metadata": {},
   "outputs": [
    {
     "name": "stdout",
     "output_type": "stream",
     "text": [
      "   A   B\n",
      "0  1  16\n",
      "1  4  25\n",
      "2  9  36\n"
     ]
    }
   ],
   "source": [
    "df = pd.DataFrame({\n",
    "    'A': [1, 2, 3],\n",
    "    'B': [4, 5, 6]\n",
    "})\n",
    "\n",
    "# Applying a function to each element\n",
    "result = df.map(lambda x: x ** 2)\n",
    "\n",
    "print(result)"
   ]
  },
  {
   "cell_type": "code",
   "execution_count": 12,
   "metadata": {},
   "outputs": [
    {
     "data": {
      "text/html": [
       "<div>\n",
       "<style scoped>\n",
       "    .dataframe tbody tr th:only-of-type {\n",
       "        vertical-align: middle;\n",
       "    }\n",
       "\n",
       "    .dataframe tbody tr th {\n",
       "        vertical-align: top;\n",
       "    }\n",
       "\n",
       "    .dataframe thead th {\n",
       "        text-align: right;\n",
       "    }\n",
       "</style>\n",
       "<table border=\"1\" class=\"dataframe\">\n",
       "  <thead>\n",
       "    <tr style=\"text-align: right;\">\n",
       "      <th></th>\n",
       "      <th>Civil Service Title</th>\n",
       "    </tr>\n",
       "  </thead>\n",
       "  <tbody>\n",
       "    <tr>\n",
       "      <th>0</th>\n",
       "      <td>Public health nurse_2022</td>\n",
       "    </tr>\n",
       "    <tr>\n",
       "      <th>1</th>\n",
       "      <td>Cert it developer (app)_2022</td>\n",
       "    </tr>\n",
       "    <tr>\n",
       "      <th>2</th>\n",
       "      <td>Executive agency counsel_2022</td>\n",
       "    </tr>\n",
       "    <tr>\n",
       "      <th>3</th>\n",
       "      <td>Certified it administrator (la_2022</td>\n",
       "    </tr>\n",
       "    <tr>\n",
       "      <th>4</th>\n",
       "      <td>Associate human rights special_2022</td>\n",
       "    </tr>\n",
       "    <tr>\n",
       "      <th>...</th>\n",
       "      <td>...</td>\n",
       "    </tr>\n",
       "    <tr>\n",
       "      <th>3768</th>\n",
       "      <td>Certified it administrator (la_2022</td>\n",
       "    </tr>\n",
       "    <tr>\n",
       "      <th>3769</th>\n",
       "      <td>Associate housing development_2022</td>\n",
       "    </tr>\n",
       "    <tr>\n",
       "      <th>3770</th>\n",
       "      <td>Senior it architect_2022</td>\n",
       "    </tr>\n",
       "    <tr>\n",
       "      <th>3771</th>\n",
       "      <td>Economist_2022</td>\n",
       "    </tr>\n",
       "    <tr>\n",
       "      <th>3772</th>\n",
       "      <td>Agency attorney interne_2022</td>\n",
       "    </tr>\n",
       "  </tbody>\n",
       "</table>\n",
       "<p>3773 rows × 1 columns</p>\n",
       "</div>"
      ],
      "text/plain": [
       "                      Civil Service Title\n",
       "0                Public health nurse_2022\n",
       "1            Cert it developer (app)_2022\n",
       "2           Executive agency counsel_2022\n",
       "3     Certified it administrator (la_2022\n",
       "4     Associate human rights special_2022\n",
       "...                                   ...\n",
       "3768  Certified it administrator (la_2022\n",
       "3769   Associate housing development_2022\n",
       "3770             Senior it architect_2022\n",
       "3771                       Economist_2022\n",
       "3772         Agency attorney interne_2022\n",
       "\n",
       "[3773 rows x 1 columns]"
      ]
     },
     "execution_count": 12,
     "metadata": {},
     "output_type": "execute_result"
    }
   ],
   "source": [
    "def add_year(text):\n",
    "    return str(text) + '_2022'\n",
    "\n",
    "pd.DataFrame(data[\"Civil Service Title\"]).map(add_year)"
   ]
  },
  {
   "cell_type": "code",
   "execution_count": 13,
   "metadata": {},
   "outputs": [
    {
     "data": {
      "text/plain": [
       "0       cat\n",
       "1       dog\n",
       "2       NaN\n",
       "3    rabbit\n",
       "dtype: object"
      ]
     },
     "execution_count": 13,
     "metadata": {},
     "output_type": "execute_result"
    }
   ],
   "source": [
    "s = pd.Series(['cat', 'dog', 'NaN', 'rabbit'])\n",
    "s"
   ]
  },
  {
   "cell_type": "code",
   "execution_count": 14,
   "metadata": {},
   "outputs": [
    {
     "data": {
      "text/plain": [
       "0    100.0\n",
       "1    200.0\n",
       "2      NaN\n",
       "3      NaN\n",
       "dtype: float64"
      ]
     },
     "execution_count": 14,
     "metadata": {},
     "output_type": "execute_result"
    }
   ],
   "source": [
    "s.map({\"cat\":100,\"dog\":200})"
   ]
  },
  {
   "cell_type": "code",
   "execution_count": 15,
   "metadata": {},
   "outputs": [
    {
     "name": "stdout",
     "output_type": "stream",
     "text": [
      "0    kitten\n",
      "1     puppy\n",
      "2     bunny\n",
      "dtype: object\n"
     ]
    }
   ],
   "source": [
    "s = pd.Series(['cat', 'dog', 'rabbit'])\n",
    "\n",
    "# Mapping values to a new set of values\n",
    "result = s.map({'cat': 'kitten', 'dog': 'puppy', 'rabbit': 'bunny'})\n",
    "\n",
    "print(result)"
   ]
  },
  {
   "cell_type": "code",
   "execution_count": 16,
   "metadata": {},
   "outputs": [
    {
     "name": "stdout",
     "output_type": "stream",
     "text": [
      "0     1\n",
      "1     4\n",
      "2     9\n",
      "3    16\n",
      "dtype: int64\n"
     ]
    }
   ],
   "source": [
    "s = pd.Series([1, 2, 3, 4])\n",
    "\n",
    "# Applying a function to each element\n",
    "result = s.map(lambda x: x ** 2)\n",
    "\n",
    "print(result)"
   ]
  },
  {
   "cell_type": "code",
   "execution_count": 17,
   "metadata": {},
   "outputs": [
    {
     "data": {
      "text/plain": [
       "0      DEPT OF HEALTH/MENTAL HYGIENE\n",
       "1    x-o-xo EMPLOYEES RETIREMENT SYS\n",
       "2           x-o-xo HOUSING AUTHORITY\n",
       "3    x-o-xo EMPLOYEES RETIREMENT SYS\n",
       "4            HUMAN RIGHTS COMMISSION\n",
       "5            DEPARTMENT OF BUILDINGS\n",
       "6           DEPARTMENT OF CORRECTION\n",
       "7         DEPT OF PARKS & RECREATION\n",
       "8     HOUSING PRESERVATION & DVLPMNT\n",
       "9     MAYORS OFFICE OF CONTRACT SVCS\n",
       "Name: Agency, dtype: object"
      ]
     },
     "execution_count": 17,
     "metadata": {},
     "output_type": "execute_result"
    }
   ],
   "source": [
    "def change_word(title):\n",
    "    title = title.replace('NYC', 'x-o-xo')\n",
    "    return title\n",
    "\n",
    "data['Agency'].map(change_word)[:10]"
   ]
  }
 ],
 "metadata": {
  "kernelspec": {
   "display_name": "base",
   "language": "python",
   "name": "python3"
  },
  "language_info": {
   "codemirror_mode": {
    "name": "ipython",
    "version": 3
   },
   "file_extension": ".py",
   "mimetype": "text/x-python",
   "name": "python",
   "nbconvert_exporter": "python",
   "pygments_lexer": "ipython3",
   "version": "3.12.3"
  }
 },
 "nbformat": 4,
 "nbformat_minor": 2
}
