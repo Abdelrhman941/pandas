{
 "cells": [
  {
   "cell_type": "code",
   "execution_count": 1,
   "metadata": {},
   "outputs": [],
   "source": [
    "import numpy as np          # type: ignore\n",
    "import pandas as pd         # type: ignore"
   ]
  },
  {
   "cell_type": "markdown",
   "metadata": {},
   "source": [
    "# 📊 **Pandas** : Panel Data Analysis\n",
    "\n",
    "Pandas provides powerful **data structures** for data manipulation and analysis:\n",
    "\n",
    "- ✅ **Series**  \n",
    "- ✅ **DataFrame**  \n",
    "\n",
    "## 🟢 What is a Series?  \n",
    "A **Series** is a **one-dimensional array** with an **index** (labels).  \n",
    "Think of it as a **single column** in a table! 📌  \n",
    "\n",
    "🔹 **Example:**  \n",
    "Imagine a list of temperatures for a week, each labeled by the day of the week. That's a **Pandas Series!**  "
   ]
  },
  {
   "cell_type": "code",
   "execution_count": 2,
   "metadata": {},
   "outputs": [
    {
     "name": "stdout",
     "output_type": "stream",
     "text": [
      "0    4\n",
      "1    7\n",
      "2    6\n",
      "3    2\n",
      "dtype: int64\n",
      "========\n",
      "7\n",
      "========\n",
      "1    7\n",
      "3    2\n",
      "dtype: int64\n",
      "========\n",
      "[4, 7, 6, 2]\n"
     ]
    }
   ],
   "source": [
    "sr = pd.Series([4,7,6,2])\n",
    "\n",
    "print(sr)\n",
    "print(\"========\")\n",
    "print(sr[1])\n",
    "print(\"========\")\n",
    "print(sr[1:5:2])\n",
    "print(\"========\")\n",
    "print(list(sr)) "
   ]
  },
  {
   "cell_type": "code",
   "execution_count": 3,
   "metadata": {},
   "outputs": [
    {
     "name": "stdout",
     "output_type": "stream",
     "text": [
      "0    (1, 2)\n",
      "1    (3, 4)\n",
      "2    (4, 5)\n",
      "dtype: object\n",
      "========\n",
      "RangeIndex(start=0, stop=3, step=1)\n",
      "========\n",
      "[(1, 2) (3, 4) (4, 5)]\n",
      "========\n",
      "<bound method Series.keys of 0    (1, 2)\n",
      "1    (3, 4)\n",
      "2    (4, 5)\n",
      "dtype: object>\n"
     ]
    }
   ],
   "source": [
    "List = [(1,2),(3,4),(4,5)]\n",
    "sr2  = pd.Series(List)\n",
    "\n",
    "print(sr2)\n",
    "print(\"========\")\n",
    "print(sr2.index)       \n",
    "print(\"========\")\n",
    "print(sr2.values)\n",
    "print(\"========\") \n",
    "print(sr2.keys)"
   ]
  },
  {
   "cell_type": "markdown",
   "metadata": {},
   "source": [
    "> ### 👉 RangeIndex( start=0 , stop=3 , step=1 ) ➡️ like range(4)"
   ]
  },
  {
   "cell_type": "markdown",
   "metadata": {},
   "source": [
    "<div style=\"width: 100%; height: 10px; background: linear-gradient(to right, orange, red, orange, red, orange); border-radius: 5px; margin: 20px 0;\"></div>"
   ]
  },
  {
   "cell_type": "markdown",
   "metadata": {},
   "source": [
    "# 🚀 Series Operations in Pandas  \n",
    "\n",
    "Pandas **Series** provides a variety of powerful operations to manipulate and analyze data efficiently.  \n",
    "\n",
    "## 🔥 Core Operations:  \n",
    "### ✅ **Arithmetic Operations**   \n",
    "Perform mathematical operations directly on Series:  \n",
    "- `+` Addition  \n",
    "- `-` Subtraction  \n",
    "- `*` Multiplication  \n",
    "- `/` Division  "
   ]
  },
  {
   "cell_type": "code",
   "execution_count": 4,
   "metadata": {},
   "outputs": [
    {
     "name": "stdout",
     "output_type": "stream",
     "text": [
      "a    1\n",
      "b    2\n",
      "c    3\n",
      "d    4\n",
      "dtype: int64\n"
     ]
    }
   ],
   "source": [
    "list = [1,2,3,4]\n",
    "obj1 = pd.Series(list,index= [\"a\",\"b\",\"c\",\"d\"])   \n",
    "print(obj1)"
   ]
  },
  {
   "cell_type": "code",
   "execution_count": 5,
   "metadata": {},
   "outputs": [
    {
     "name": "stdout",
     "output_type": "stream",
     "text": [
      "a     2.718282\n",
      "b     7.389056\n",
      "c    20.085537\n",
      "d    54.598150\n",
      "dtype: float64\n",
      "========================\n",
      "a    2\n",
      "b    4\n",
      "c    6\n",
      "d    8\n",
      "dtype: int64\n",
      "========================\n",
      "a    False\n",
      "b    False\n",
      "c     True\n",
      "d     True\n",
      "dtype: bool\n",
      "-------\n",
      "c    3\n",
      "d    4\n",
      "dtype: int64\n",
      "========================\n",
      "True\n",
      "-------\n",
      "False\n"
     ]
    }
   ],
   "source": [
    "print(np.exp(obj1))\n",
    "print(\"========================\")\n",
    "print( obj1 * 2)\n",
    "print(\"========================\")\n",
    "print( obj1 > 2)\n",
    "print(\"-------\")\n",
    "print( obj1[obj1 > 2])\n",
    "print(\"========================\")\n",
    "print('b' in obj1)\n",
    "print(\"-------\")\n",
    "print('e' in obj1)"
   ]
  },
  {
   "cell_type": "code",
   "execution_count": 6,
   "metadata": {},
   "outputs": [
    {
     "name": "stdout",
     "output_type": "stream",
     "text": [
      "Ohio      35000\n",
      "Texas     71000\n",
      "Oregon    16000\n",
      "Utah       5000\n",
      "dtype: int64\n",
      "========================\n",
      "California        NaN\n",
      "Ohio          35000.0\n",
      "Oregon        16000.0\n",
      "Texas         71000.0\n",
      "dtype: float64\n",
      "========================\n",
      "California         NaN\n",
      "Ohio           70000.0\n",
      "Oregon         32000.0\n",
      "Texas         142000.0\n",
      "Utah               NaN\n",
      "dtype: float64\n"
     ]
    }
   ],
   "source": [
    "my_dict = {'Ohio': 35000, 'Texas': 71000, 'Oregon': 16000, 'Utah': 5000}\n",
    "states  = ['California', 'Ohio', 'Oregon', 'Texas']\n",
    "\n",
    "obj2 = pd.Series(my_dict)\n",
    "print(obj2)\n",
    "print(\"========================\")\n",
    "obj3 = pd.Series(my_dict, index=states)\n",
    "print(obj3)\n",
    "print(\"========================\")\n",
    "print(obj2 + obj3)"
   ]
  }
 ],
 "metadata": {
  "kernelspec": {
   "display_name": "base",
   "language": "python",
   "name": "python3"
  },
  "language_info": {
   "codemirror_mode": {
    "name": "ipython",
    "version": 3
   },
   "file_extension": ".py",
   "mimetype": "text/x-python",
   "name": "python",
   "nbconvert_exporter": "python",
   "pygments_lexer": "ipython3",
   "version": "3.12.3"
  }
 },
 "nbformat": 4,
 "nbformat_minor": 2
}
